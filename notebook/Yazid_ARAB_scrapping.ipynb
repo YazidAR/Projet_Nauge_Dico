{
 "cells": [
  {
   "cell_type": "code",
   "execution_count": 1,
   "metadata": {},
   "outputs": [],
   "source": [
    "#Scrapping fichier audios\n",
    "from IPython.display import display, clear_output, HTML, Markdown\n",
    "from requests_html import HTMLSession\n",
    "from bs4 import BeautifulSoup\n",
    "session = HTMLSession()\n",
    "import re"
   ]
  },
  {
   "cell_type": "code",
   "execution_count": 2,
   "metadata": {},
   "outputs": [
    {
     "name": "stdout",
     "output_type": "stream",
     "text": [
      "entrer un mot : love\n"
     ]
    }
   ],
   "source": [
    "mot = input('entrer un mot : ')"
   ]
  },
  {
   "cell_type": "markdown",
   "metadata": {},
   "source": [
    "## 1 - Scrapping"
   ]
  },
  {
   "cell_type": "code",
   "execution_count": 3,
   "metadata": {},
   "outputs": [],
   "source": [
    "#Récupération du bon url\n",
    "path=\"https://dictionary.cambridge.org/fr/dictionnaire/anglais/\"\n",
    "lien=path+mot"
   ]
  },
  {
   "cell_type": "code",
   "execution_count": 4,
   "metadata": {},
   "outputs": [
    {
     "data": {
      "text/plain": [
       "200"
      ]
     },
     "execution_count": 4,
     "metadata": {},
     "output_type": "execute_result"
    }
   ],
   "source": [
    "#Nous vérifions que le site répond bien en recevant le code 200\n",
    "response = session.get(lien)\n",
    "status = response.status_code\n",
    "html_doc = response.content\n",
    "status"
   ]
  },
  {
   "cell_type": "markdown",
   "metadata": {},
   "source": [
    "## 2 - Parsing"
   ]
  },
  {
   "cell_type": "code",
   "execution_count": 5,
   "metadata": {},
   "outputs": [],
   "source": [
    "soup = BeautifulSoup(response.text,'html.parser')\n",
    "souplettesBody = soup.find('body')"
   ]
  },
  {
   "cell_type": "code",
   "execution_count": 6,
   "metadata": {},
   "outputs": [],
   "source": [
    "soupletteAside = souplettesBody.findAll('amp-audio')\n",
    "soupletteAsideuk = soupletteAside[0].find('source')\n",
    "soupletteAsideus = soupletteAside[1].find('source')"
   ]
  },
  {
   "cell_type": "code",
   "execution_count": 7,
   "metadata": {},
   "outputs": [],
   "source": [
    "rechercher = soup.findAll(\"div\", {\"class\" : \"pos-header dpos-h\"})"
   ]
  },
  {
   "cell_type": "code",
   "execution_count": 8,
   "metadata": {},
   "outputs": [],
   "source": [
    "mp3uk = soupletteAsideuk['src']\n",
    "mp3us = soupletteAsideus['src']"
   ]
  },
  {
   "cell_type": "code",
   "execution_count": 9,
   "metadata": {},
   "outputs": [],
   "source": [
    "base_url='https://dictionary.cambridge.org'\n",
    "audiouk = base_url+mp3uk\n",
    "audious = base_url+mp3us"
   ]
  },
  {
   "cell_type": "markdown",
   "metadata": {},
   "source": [
    "## Récupération des informations"
   ]
  },
  {
   "cell_type": "code",
   "execution_count": 10,
   "metadata": {},
   "outputs": [
    {
     "name": "stdout",
     "output_type": "stream",
     "text": [
      "Classe grammaticale : noun\n"
     ]
    }
   ],
   "source": [
    "#Type de mot\n",
    "for v in rechercher:\n",
    "    motVague = v.find('span',{\"class\":\"pos dpos\"})\n",
    "mot = motVague.text.strip()\n",
    "\n",
    "print(\"Classe grammaticale :\",mot)"
   ]
  },
  {
   "cell_type": "code",
   "execution_count": 11,
   "metadata": {},
   "outputs": [
    {
     "name": "stdout",
     "output_type": "stream",
     "text": [
      "Prononciation UK :  lʌv\n",
      "Prononciation US :  lʌv\n"
     ]
    }
   ],
   "source": [
    "#PrononciationUK\n",
    "for v in rechercher:\n",
    "    prononUK = v.find('span',{\"class\":\"ipa dipa lpr-2 lpl-1\"})\n",
    "prononciationUK = prononUK.text.strip()\n",
    "\n",
    "#PrononciationUS semble toujours\n",
    "for v in rechercher:\n",
    "    prononUS = v.find('span',{\"class\":\"ipa dipa lpr-2 lpl-1\"})\n",
    "prononciationUS = prononUS.text.strip()\n",
    "\n",
    "print(\"Prononciation UK : \", prononciationUK)\n",
    "print(\"Prononciation US : \", prononciationUS)"
   ]
  }
 ],
 "metadata": {
  "kernelspec": {
   "display_name": "Python 3",
   "language": "python",
   "name": "python3"
  },
  "language_info": {
   "codemirror_mode": {
    "name": "ipython",
    "version": 3
   },
   "file_extension": ".py",
   "mimetype": "text/x-python",
   "name": "python",
   "nbconvert_exporter": "python",
   "pygments_lexer": "ipython3",
   "version": "3.8.5"
  }
 },
 "nbformat": 4,
 "nbformat_minor": 4
}
