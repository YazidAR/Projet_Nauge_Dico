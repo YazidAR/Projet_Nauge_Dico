{
 "cells": [
  {
   "cell_type": "markdown",
   "metadata": {},
   "source": [
    "# DicoCo\n",
    "\n",
    "*Yazid ARAB*"
   ]
  },
  {
   "cell_type": "code",
   "execution_count": 1,
   "metadata": {},
   "outputs": [
    {
     "data": {
      "text/html": [
       "<div id=\"my_id_menu_nb\">run previous cell, wait for 2 seconds</div>\n",
       "<script>\n",
       "function repeat_indent_string(n){\n",
       "    var a = \"\" ;\n",
       "    for ( ; n > 0 ; --n)\n",
       "        a += \"    \";\n",
       "    return a;\n",
       "}\n",
       "// look up into all sections and builds an automated menu //\n",
       "var update_menu_string = function(begin, lfirst, llast, sformat, send, keep_item, begin_format, end_format) {\n",
       "    var anchors = document.getElementsByClassName(\"section\");\n",
       "    if (anchors.length == 0) {\n",
       "        anchors = document.getElementsByClassName(\"text_cell_render rendered_html\");\n",
       "    }\n",
       "    var i,t;\n",
       "    var text_menu = begin;\n",
       "    var text_memo = \"<pre>\\nlength:\" + anchors.length + \"\\n\";\n",
       "    var ind = \"\";\n",
       "    var memo_level = 1;\n",
       "    var href;\n",
       "    var tags = [];\n",
       "    var main_item = 0;\n",
       "    var format_open = 0;\n",
       "    for (i = 0; i <= llast; i++)\n",
       "        tags.push(\"h\" + i);\n",
       "\n",
       "    for (i = 0; i < anchors.length; i++) {\n",
       "        text_memo += \"**\" + anchors[i].id + \"--\\n\";\n",
       "\n",
       "        var child = null;\n",
       "        for(t = 0; t < tags.length; t++) {\n",
       "            var r = anchors[i].getElementsByTagName(tags[t]);\n",
       "            if (r.length > 0) {\n",
       "child = r[0];\n",
       "break;\n",
       "            }\n",
       "        }\n",
       "        if (child == null) {\n",
       "            text_memo += \"null\\n\";\n",
       "            continue;\n",
       "        }\n",
       "        if (anchors[i].hasAttribute(\"id\")) {\n",
       "            // when converted in RST\n",
       "            href = anchors[i].id;\n",
       "            text_memo += \"#1-\" + href;\n",
       "            // passer à child suivant (le chercher)\n",
       "        }\n",
       "        else if (child.hasAttribute(\"id\")) {\n",
       "            // in a notebook\n",
       "            href = child.id;\n",
       "            text_memo += \"#2-\" + href;\n",
       "        }\n",
       "        else {\n",
       "            text_memo += \"#3-\" + \"*\" + \"\\n\";\n",
       "            continue;\n",
       "        }\n",
       "        var title = child.textContent;\n",
       "        var level = parseInt(child.tagName.substring(1,2));\n",
       "\n",
       "        text_memo += \"--\" + level + \"?\" + lfirst + \"--\" + title + \"\\n\";\n",
       "\n",
       "        if ((level < lfirst) || (level > llast)) {\n",
       "            continue ;\n",
       "        }\n",
       "        if (title.endsWith('¶')) {\n",
       "            title = title.substring(0,title.length-1).replace(\"<\", \"&lt;\")\n",
       "         .replace(\">\", \"&gt;\").replace(\"&\", \"&amp;\");\n",
       "        }\n",
       "        if (title.length == 0) {\n",
       "            continue;\n",
       "        }\n",
       "\n",
       "        while (level < memo_level) {\n",
       "            text_menu += end_format + \"</ul>\\n\";\n",
       "            format_open -= 1;\n",
       "            memo_level -= 1;\n",
       "        }\n",
       "        if (level == lfirst) {\n",
       "            main_item += 1;\n",
       "        }\n",
       "        if (keep_item != -1 && main_item != keep_item + 1) {\n",
       "            // alert(main_item + \" - \" + level + \" - \" + keep_item);\n",
       "            continue;\n",
       "        }\n",
       "        while (level > memo_level) {\n",
       "            text_menu += \"<ul>\\n\";\n",
       "            memo_level += 1;\n",
       "        }\n",
       "        text_menu += repeat_indent_string(level-2);\n",
       "        text_menu += begin_format + sformat.replace(\"__HREF__\", href).replace(\"__TITLE__\", title);\n",
       "        format_open += 1;\n",
       "    }\n",
       "    while (1 < memo_level) {\n",
       "        text_menu += end_format + \"</ul>\\n\";\n",
       "        memo_level -= 1;\n",
       "        format_open -= 1;\n",
       "    }\n",
       "    text_menu += send;\n",
       "    //text_menu += \"\\n\" + text_memo;\n",
       "\n",
       "    while (format_open > 0) {\n",
       "        text_menu += end_format;\n",
       "        format_open -= 1;\n",
       "    }\n",
       "    return text_menu;\n",
       "};\n",
       "var update_menu = function() {\n",
       "    var sbegin = \"\";\n",
       "    var sformat = '<a href=\"#__HREF__\">__TITLE__</a>';\n",
       "    var send = \"\";\n",
       "    var begin_format = '<li>';\n",
       "    var end_format = '</li>';\n",
       "    var keep_item = -1;\n",
       "    var text_menu = update_menu_string(sbegin, 2, 4, sformat, send, keep_item,\n",
       "       begin_format, end_format);\n",
       "    var menu = document.getElementById(\"my_id_menu_nb\");\n",
       "    menu.innerHTML=text_menu;\n",
       "};\n",
       "window.setTimeout(update_menu,2000);\n",
       "            </script>"
      ],
      "text/plain": [
       "<IPython.core.display.HTML object>"
      ]
     },
     "execution_count": 1,
     "metadata": {},
     "output_type": "execute_result"
    }
   ],
   "source": [
    "from jyquickhelper import add_notebook_menu\n",
    "add_notebook_menu()"
   ]
  },
  {
   "cell_type": "markdown",
   "metadata": {},
   "source": [
    "## 0 - Importation des librairies"
   ]
  },
  {
   "cell_type": "markdown",
   "metadata": {},
   "source": [
    "Nous commençons par importer les librairies nécessaires à la création de notre projet."
   ]
  },
  {
   "cell_type": "code",
   "execution_count": 2,
   "metadata": {},
   "outputs": [],
   "source": [
    "#Scrapping fichier audios\n",
    "from IPython.display import display, clear_output, HTML, Markdown\n",
    "from requests_html import HTMLSession\n",
    "from bs4 import BeautifulSoup\n",
    "session = HTMLSession()\n",
    "import re\n",
    "\n",
    "#Spectormetre\n",
    "from pylab import specgram, show\n",
    "from moviepy.editor import AudioFileClip\n",
    "\n",
    "#Audio\n",
    "from IPython import display as audioD\n",
    "import IPython.display as ipd\n",
    "\n",
    "#Création de widgets\n",
    "from IPython.display import display, clear_output, HTML, Markdown \n",
    "import IPython.display as ipd\n",
    "import ipywidgets as widgets\n",
    "\n",
    "#Librairies classiques\n",
    "import pandas as pd\n",
    "import numpy as np\n",
    "\n",
    "pd.options.mode.chained_assignment = None "
   ]
  },
  {
   "cell_type": "markdown",
   "metadata": {},
   "source": [
    "## 1 - Scrapping"
   ]
  },
  {
   "cell_type": "markdown",
   "metadata": {},
   "source": [
    "Pour ce projet, j'ai pris la décision de récupérer les informations depuis le site de traduction de Cambridge dictionnary."
   ]
  },
  {
   "cell_type": "code",
   "execution_count": 4,
   "metadata": {},
   "outputs": [],
   "source": [
    "def scrapping(df):\n",
    "    #Liste récupérant les zones d'informations qui nous interesse\n",
    "    path=\"https://dictionary.cambridge.org/fr/dictionnaire/anglais/\"\n",
    "    listeUK = []\n",
    "    listeUS = []\n",
    "    \n",
    "    for mot in df[\"motVedette\"] :\n",
    "        #On créé le lien du mot vedette\n",
    "        lien=path+mot\n",
    "        response = session.get(lien)\n",
    "        status = response.status_code\n",
    "        html_doc = response.content\n",
    "        \n",
    "        #Parsing\n",
    "        soup = BeautifulSoup(response.text,'html.parser')\n",
    "        souplettesBody = soup.find('body')\n",
    "        \n",
    "        #On sépare les liens obtenus pour UK et US\n",
    "        soupletteAside = souplettesBody.findAll('amp-audio')\n",
    "        soupletteAsideuk = soupletteAside[0].find('source')\n",
    "        soupletteAsideus = soupletteAside[1].find('source')\n",
    "        \n",
    "        #On récupére le code de la page\n",
    "        rechercher = soup.findAll(\"div\", {\"class\" : \"pos-header dpos-h\"})\n",
    "        \n",
    "        #On a à présent les éléments des fichiers audios\n",
    "        mp3uk = soupletteAsideuk['src']\n",
    "        mp3us = soupletteAsideus['src']\n",
    "        \n",
    "        #Nous pouvons donc reconstruire le lien du fichier mp3\n",
    "        base_url='https://dictionary.cambridge.org'\n",
    "        audiouk = base_url+mp3uk\n",
    "        audious = base_url+mp3us\n",
    "        \n",
    "        #Que nous venons stocker dans une liste\n",
    "        listeUK.append(audiouk)\n",
    "        listeUS.append(audious)\n",
    "\n",
    "    df['lienUK']=pd.Series(listeUK).values\n",
    "    df['lienUS']=pd.Series(listeUS).values\n",
    "    \n",
    "    return df"
   ]
  },
  {
   "cell_type": "code",
   "execution_count": 5,
   "metadata": {},
   "outputs": [],
   "source": [
    "#Pour visualiser la longueur d'onde des fichiers audio nous réalisons un spectromètre\n",
    "def spectormetre(lienuk, lienus):\n",
    "    #Nous utilisons la fonction specgram pour les audios UK\n",
    "    print(\"Spectrometre UK : \")\n",
    "    audio = AudioFileClip(lienuk) \n",
    "    sound_array = audio.to_soundarray()\n",
    "    specgram(sound_array[:,0])\n",
    "    show()\n",
    "    \n",
    "    #Même chose pour les audios US\n",
    "    print(\"Spectrometre US : \")\n",
    "    audio = AudioFileClip(lienus) \n",
    "    sound_array = audio.to_soundarray()\n",
    "    specgram(sound_array[:,0])\n",
    "    show()"
   ]
  },
  {
   "cell_type": "code",
   "execution_count": 6,
   "metadata": {},
   "outputs": [],
   "source": [
    "# Création des audios\n",
    "def Audio(df):\n",
    "    clear_output()\n",
    "    listeWid = widgets.Output()\n",
    "    lU = widgets.Output()\n",
    "    sU = widgets.Output()\n",
    "\n",
    "    for numLigne in range(len(df)):\n",
    "        \n",
    "        #Nous créons le widget qui reprendra le fichier audio mp3 pour UK\n",
    "        labelUK = widgets.Label(\"UK\")\n",
    "        itemsUK = audioD.Audio(url = df[\"lienUK\"][numLigne])\n",
    "        spectroUK = df[\"lienUK\"][numLigne]\n",
    "        audioUK = widgets.Output()\n",
    "        audioUK.append_display_data(itemsUK)\n",
    "        \n",
    "        #Même chose pour US\n",
    "        labelUS = widgets.Label(\"US\")\n",
    "        itemsUS = audioD.Audio(url = df[\"lienUS\"][numLigne])\n",
    "        audioUS = widgets.Output()\n",
    "        audioUS.append_display_data(itemsUS)\n",
    "        spectroUS = df[\"lienUS\"][numLigne]\n",
    "        \n",
    "        #Widget final qui sera édité\n",
    "        lU = widgets.HBox([labelUK,audioUK,labelUS,audioUS])\n",
    "\n",
    "        #Les mots que nous entrons dans la base\n",
    "        labelMot = widgets.Label(df[\"motVedette\"][numLigne])\n",
    "        labelPron = widgets.Label(str(df[\"pron\"][numLigne]))\n",
    "        label = widgets.HBox([labelMot, labelPron])\n",
    "        listeWid.append_display_data(widgets.VBox([label,lU,sU]))\n",
    "        spectormetre(spectroUK, spectroUS)\n",
    "                        \n",
    "    return listeWid"
   ]
  },
  {
   "cell_type": "markdown",
   "metadata": {},
   "source": [
    "## 2 - Enrichissement du dictionnaire"
   ]
  },
  {
   "cell_type": "code",
   "execution_count": 7,
   "metadata": {},
   "outputs": [
    {
     "data": {
      "text/html": [
       "<div>\n",
       "<style scoped>\n",
       "    .dataframe tbody tr th:only-of-type {\n",
       "        vertical-align: middle;\n",
       "    }\n",
       "\n",
       "    .dataframe tbody tr th {\n",
       "        vertical-align: top;\n",
       "    }\n",
       "\n",
       "    .dataframe thead th {\n",
       "        text-align: right;\n",
       "    }\n",
       "</style>\n",
       "<table border=\"1\" class=\"dataframe\">\n",
       "  <thead>\n",
       "    <tr style=\"text-align: right;\">\n",
       "      <th></th>\n",
       "      <th>nbSyll</th>\n",
       "      <th>pron</th>\n",
       "      <th>origin</th>\n",
       "      <th>warning</th>\n",
       "      <th>remarques</th>\n",
       "      <th>POS</th>\n",
       "      <th>lineId</th>\n",
       "      <th>pageId</th>\n",
       "    </tr>\n",
       "  </thead>\n",
       "  <tbody>\n",
       "    <tr>\n",
       "      <th>13670</th>\n",
       "      <td>4</td>\n",
       "      <td>tĕmptāʹtion</td>\n",
       "      <td>NaN</td>\n",
       "      <td>NaN</td>\n",
       "      <td>NaN</td>\n",
       "      <td>n.</td>\n",
       "      <td>59.0</td>\n",
       "      <td>211</td>\n",
       "    </tr>\n",
       "    <tr>\n",
       "      <th>12427</th>\n",
       "      <td>3</td>\n",
       "      <td>sĭʹbylīne</td>\n",
       "      <td>NaN</td>\n",
       "      <td>NaN</td>\n",
       "      <td>NaN</td>\n",
       "      <td>a.</td>\n",
       "      <td>38.0</td>\n",
       "      <td>194</td>\n",
       "    </tr>\n",
       "    <tr>\n",
       "      <th>4361</th>\n",
       "      <td>3</td>\n",
       "      <td>ĕʹmĕrăld</td>\n",
       "      <td>F.</td>\n",
       "      <td>NaN</td>\n",
       "      <td>NaN</td>\n",
       "      <td>n.</td>\n",
       "      <td>24.0</td>\n",
       "      <td>80</td>\n",
       "    </tr>\n",
       "  </tbody>\n",
       "</table>\n",
       "</div>"
      ],
      "text/plain": [
       "       nbSyll         pron origin warning remarques POS  lineId  pageId\n",
       "13670       4  tĕmptāʹtion    NaN     NaN       NaN  n.    59.0     211\n",
       "12427       3    sĭʹbylīne    NaN     NaN       NaN  a.    38.0     194\n",
       "4361        3     ĕʹmĕrăld     F.     NaN       NaN  n.    24.0      80"
      ]
     },
     "execution_count": 7,
     "metadata": {},
     "output_type": "execute_result"
    }
   ],
   "source": [
    "#Importation du dictionnaire\n",
    "cheminDico = "./../data/dataframe/BuchananRich.csv" \n",
    "dfDicoBuch = pd.read_csv(cheminDico, delimiter=\";\", encoding=\"utf8\")\n",
    "\n",
    "# afficher à l'écran un échantillon aléatoire du tableau\n",
    "dfDicoBuch.sample(n=3)"
   ]
  },
  {
   "cell_type": "code",
   "execution_count": 8,
   "metadata": {},
   "outputs": [
    {
     "data": {
      "text/html": [
       "<div>\n",
       "<style scoped>\n",
       "    .dataframe tbody tr th:only-of-type {\n",
       "        vertical-align: middle;\n",
       "    }\n",
       "\n",
       "    .dataframe tbody tr th {\n",
       "        vertical-align: top;\n",
       "    }\n",
       "\n",
       "    .dataframe thead th {\n",
       "        text-align: right;\n",
       "    }\n",
       "</style>\n",
       "<table border=\"1\" class=\"dataframe\">\n",
       "  <thead>\n",
       "    <tr style=\"text-align: right;\">\n",
       "      <th></th>\n",
       "      <th>char</th>\n",
       "      <th>occ</th>\n",
       "      <th>graph</th>\n",
       "    </tr>\n",
       "  </thead>\n",
       "  <tbody>\n",
       "    <tr>\n",
       "      <th>24</th>\n",
       "      <td>ĭ</td>\n",
       "      <td>5281</td>\n",
       "      <td>i</td>\n",
       "    </tr>\n",
       "    <tr>\n",
       "      <th>71</th>\n",
       "      <td>р</td>\n",
       "      <td>1</td>\n",
       "      <td>p</td>\n",
       "    </tr>\n",
       "    <tr>\n",
       "      <th>59</th>\n",
       "      <td>˙</td>\n",
       "      <td>3</td>\n",
       "      <td>NaN</td>\n",
       "    </tr>\n",
       "  </tbody>\n",
       "</table>\n",
       "</div>"
      ],
      "text/plain": [
       "   char   occ graph\n",
       "24    ĭ  5281     i\n",
       "71    р     1     p\n",
       "59    ˙     3   NaN"
      ]
     },
     "execution_count": 8,
     "metadata": {},
     "output_type": "execute_result"
    }
   ],
   "source": [
    "#Table mapping\n",
    "cheminMap = r\"C:\\Users\\yazid\\Documents\\Cnam\\Annee3\\Données non numérique - Nauge\\cnam-athon-pronunciation-main\\cnam-athon-pronunciation-main\\data\\dictionary\\Buchanan_PronChar_counts.csv\"\n",
    "dfMap = pd.read_csv(cheminMap, delimiter=\";\", encoding=\"utf8\")\n",
    "\n",
    "# Affichage\n",
    "dfMap.sample(n=3)"
   ]
  },
  {
   "cell_type": "code",
   "execution_count": 9,
   "metadata": {},
   "outputs": [],
   "source": [
    "#On remplace les vides par des chaines de caractères vides\n",
    "dfMap = dfMap.replace(np.nan,'', regex = True)"
   ]
  },
  {
   "cell_type": "code",
   "execution_count": 10,
   "metadata": {},
   "outputs": [],
   "source": [
    "#Changement et correction des mots\n",
    "def correctionTexte(ancienMot,dfMap):\n",
    "    Resultat = \"\"\n",
    "    \n",
    "    for lettre in ancienMot: \n",
    "        dfRowFinded = dfMap[dfMap['char'] == lettre]\n",
    "        \n",
    "        if len(dfRowFinded == 1):\n",
    "            Resultat += dfRowFinded.iloc[0]['graph']\n",
    "        else:\n",
    "            Resultat += '?'\n",
    "            \n",
    "    return(Resultat)"
   ]
  },
  {
   "cell_type": "code",
   "execution_count": 11,
   "metadata": {},
   "outputs": [],
   "source": [
    "#Ajout de la colonne avec les mots vedettes\n",
    "dfDicoBuch['motVedette'] = dfDicoBuch.apply(lambda x: correctionTexte(x['pron'], dfMap),1)"
   ]
  },
  {
   "cell_type": "markdown",
   "metadata": {},
   "source": [
    "### 2.1 - Création des colonnes Sampa et Ipa"
   ]
  },
  {
   "cell_type": "code",
   "execution_count": 12,
   "metadata": {},
   "outputs": [],
   "source": [
    "#Importation de la base de données corrigée avec l'ensemble des données\n",
    "CheminBigRichSample=r\"C:\\Users\\yazid\\Documents\\Cnam\\Annee3\\Données non numérique - Nauge\\cnam-athon-pronunciation-main\\cnam-athon-pronunciation-main\\data\\dataframe\\BigiRichSample.csv\"\n",
    "dfBRS = pd.read_csv(CheminBigRichSample, delimiter=\";\", encoding=\"utf8\")"
   ]
  },
  {
   "cell_type": "code",
   "execution_count": 13,
   "metadata": {},
   "outputs": [
    {
     "data": {
      "text/html": [
       "<div>\n",
       "<style scoped>\n",
       "    .dataframe tbody tr th:only-of-type {\n",
       "        vertical-align: middle;\n",
       "    }\n",
       "\n",
       "    .dataframe tbody tr th {\n",
       "        vertical-align: top;\n",
       "    }\n",
       "\n",
       "    .dataframe thead th {\n",
       "        text-align: right;\n",
       "    }\n",
       "</style>\n",
       "<table border=\"1\" class=\"dataframe\">\n",
       "  <thead>\n",
       "    <tr style=\"text-align: right;\">\n",
       "      <th></th>\n",
       "      <th>nbSyll</th>\n",
       "      <th>pron</th>\n",
       "      <th>origin</th>\n",
       "      <th>warning</th>\n",
       "      <th>remarques</th>\n",
       "      <th>POS</th>\n",
       "      <th>lineId</th>\n",
       "      <th>pageId</th>\n",
       "      <th>motVedette</th>\n",
       "      <th>pronSampa</th>\n",
       "      <th>ipa</th>\n",
       "    </tr>\n",
       "  </thead>\n",
       "  <tbody>\n",
       "    <tr>\n",
       "      <th>8992</th>\n",
       "      <td>1</td>\n",
       "      <td>tăn</td>\n",
       "      <td>NaN</td>\n",
       "      <td>NaN</td>\n",
       "      <td>NaN</td>\n",
       "      <td>n.</td>\n",
       "      <td>41.0</td>\n",
       "      <td>210</td>\n",
       "      <td>tan</td>\n",
       "      <td>t { n</td>\n",
       "      <td>tæn</td>\n",
       "    </tr>\n",
       "    <tr>\n",
       "      <th>10319</th>\n",
       "      <td>1</td>\n",
       "      <td>yore</td>\n",
       "      <td>NaN</td>\n",
       "      <td>NaN</td>\n",
       "      <td>NaN</td>\n",
       "      <td>p.</td>\n",
       "      <td>18.0</td>\n",
       "      <td>241</td>\n",
       "      <td>yore</td>\n",
       "      <td>j O: r\\</td>\n",
       "      <td>jOːɹ</td>\n",
       "    </tr>\n",
       "    <tr>\n",
       "      <th>8493</th>\n",
       "      <td>1</td>\n",
       "      <td>ſo_ugh_t</td>\n",
       "      <td>NaN</td>\n",
       "      <td>NaN</td>\n",
       "      <td>NaN</td>\n",
       "      <td>a.</td>\n",
       "      <td>45.0</td>\n",
       "      <td>199</td>\n",
       "      <td>sought</td>\n",
       "      <td>s O: t</td>\n",
       "      <td>sOːt</td>\n",
       "    </tr>\n",
       "  </tbody>\n",
       "</table>\n",
       "</div>"
      ],
      "text/plain": [
       "       nbSyll      pron origin warning remarques POS  lineId  pageId  \\\n",
       "8992        1       tăn    NaN     NaN       NaN  n.    41.0     210   \n",
       "10319       1      yore    NaN     NaN       NaN  p.    18.0     241   \n",
       "8493        1  ſo_ugh_t    NaN     NaN       NaN  a.    45.0     199   \n",
       "\n",
       "      motVedette pronSampa   ipa  \n",
       "8992         tan     t { n   tæn  \n",
       "10319       yore   j O: r\\  jOːɹ  \n",
       "8493      sought    s O: t  sOːt  "
      ]
     },
     "execution_count": 13,
     "metadata": {},
     "output_type": "execute_result"
    }
   ],
   "source": [
    "#On merge les deux tables et supprime la colonne en hwd qui correspond au mot vedette\n",
    "DfDico = dfDicoBuch.merge(dfBRS, how='inner',left_on= 'motVedette', right_on='hwd')\n",
    "del DfDico['hwd']\n",
    "DfDico.sample(n=3)"
   ]
  },
  {
   "cell_type": "markdown",
   "metadata": {},
   "source": [
    "Pour éviter de perdre du temps à générer cette dataframe à chaque lancement, j'exporte le résultat dans un fichier CSV indépendant. Je recharge donc, dans un second temps, les données générées."
   ]
  },
  {
   "cell_type": "code",
   "execution_count": 14,
   "metadata": {},
   "outputs": [],
   "source": [
    "DfDico.to_csv(r\"C:\\Users\\yazid\\Documents\\Cnam\\Annee3\\Données non numérique - Nauge\\cnam-athon-pronunciation-main\\cnam-athon-pronunciation-main\\data\\dataframe\\BuchananRich.csv\")"
   ]
  },
  {
   "cell_type": "code",
   "execution_count": 15,
   "metadata": {},
   "outputs": [
    {
     "data": {
      "text/html": [
       "<div>\n",
       "<style scoped>\n",
       "    .dataframe tbody tr th:only-of-type {\n",
       "        vertical-align: middle;\n",
       "    }\n",
       "\n",
       "    .dataframe tbody tr th {\n",
       "        vertical-align: top;\n",
       "    }\n",
       "\n",
       "    .dataframe thead th {\n",
       "        text-align: right;\n",
       "    }\n",
       "</style>\n",
       "<table border=\"1\" class=\"dataframe\">\n",
       "  <thead>\n",
       "    <tr style=\"text-align: right;\">\n",
       "      <th></th>\n",
       "      <th>Unnamed: 0</th>\n",
       "      <th>nbSyll</th>\n",
       "      <th>pron</th>\n",
       "      <th>origin</th>\n",
       "      <th>warning</th>\n",
       "      <th>remarques</th>\n",
       "      <th>POS</th>\n",
       "      <th>lineId</th>\n",
       "      <th>pageId</th>\n",
       "      <th>motVedette</th>\n",
       "      <th>pronSampa</th>\n",
       "      <th>ipa</th>\n",
       "    </tr>\n",
       "  </thead>\n",
       "  <tbody>\n",
       "    <tr>\n",
       "      <th>0</th>\n",
       "      <td>0</td>\n",
       "      <td>3</td>\n",
       "      <td>aʹbăcus</td>\n",
       "      <td>NaN</td>\n",
       "      <td>NaN</td>\n",
       "      <td>NaN</td>\n",
       "      <td>n.</td>\n",
       "      <td>2.0</td>\n",
       "      <td>19</td>\n",
       "      <td>abacus</td>\n",
       "      <td>{ b @ k @ s</td>\n",
       "      <td>æbəkəs</td>\n",
       "    </tr>\n",
       "    <tr>\n",
       "      <th>1</th>\n",
       "      <td>1</td>\n",
       "      <td>3</td>\n",
       "      <td>ābăʹndon</td>\n",
       "      <td>F.</td>\n",
       "      <td>NaN</td>\n",
       "      <td>NaN</td>\n",
       "      <td>v.</td>\n",
       "      <td>5.0</td>\n",
       "      <td>19</td>\n",
       "      <td>abandon</td>\n",
       "      <td>@ b { n d @ n</td>\n",
       "      <td>əbændən</td>\n",
       "    </tr>\n",
       "    <tr>\n",
       "      <th>2</th>\n",
       "      <td>2</td>\n",
       "      <td>4</td>\n",
       "      <td>ābăʹndŏned</td>\n",
       "      <td>NaN</td>\n",
       "      <td>NaN</td>\n",
       "      <td>NaN</td>\n",
       "      <td>a.</td>\n",
       "      <td>6.0</td>\n",
       "      <td>19</td>\n",
       "      <td>abandoned</td>\n",
       "      <td>@ b { n d @ n d</td>\n",
       "      <td>əbændənd</td>\n",
       "    </tr>\n",
       "  </tbody>\n",
       "</table>\n",
       "</div>"
      ],
      "text/plain": [
       "   Unnamed: 0  nbSyll        pron origin warning remarques POS  lineId  \\\n",
       "0           0       3     aʹbăcus    NaN     NaN       NaN  n.     2.0   \n",
       "1           1       3    ābăʹndon     F.     NaN       NaN  v.     5.0   \n",
       "2           2       4  ābăʹndŏned    NaN     NaN       NaN  a.     6.0   \n",
       "\n",
       "   pageId motVedette        pronSampa       ipa  \n",
       "0      19     abacus      { b @ k @ s    æbəkəs  \n",
       "1      19    abandon    @ b { n d @ n   əbændən  \n",
       "2      19  abandoned  @ b { n d @ n d  əbændənd  "
      ]
     },
     "execution_count": 15,
     "metadata": {},
     "output_type": "execute_result"
    }
   ],
   "source": [
    "cheminBigi = r\"C:\\Users\\yazid\\Documents\\Cnam\\Annee3\\Données non numérique - Nauge\\cnam-athon-pronunciation-main\\cnam-athon-pronunciation-main\\data\\dataframe\\BuchananRich.csv\"\n",
    "Bigi = pd.read_csv(cheminBigi, delimiter=\",\", encoding=\"utf8\")\n",
    "Bigi.head(3)"
   ]
  },
  {
   "cell_type": "markdown",
   "metadata": {},
   "source": [
    "Toutes les données de cette nouvelle base ne nous interesse pas pour réaliser nos analyses. Nous gardons donc les mêmes éléments que dans le tableau suggeré par les demandeurs."
   ]
  },
  {
   "cell_type": "code",
   "execution_count": 16,
   "metadata": {},
   "outputs": [
    {
     "data": {
      "text/html": [
       "<div>\n",
       "<style scoped>\n",
       "    .dataframe tbody tr th:only-of-type {\n",
       "        vertical-align: middle;\n",
       "    }\n",
       "\n",
       "    .dataframe tbody tr th {\n",
       "        vertical-align: top;\n",
       "    }\n",
       "\n",
       "    .dataframe thead th {\n",
       "        text-align: right;\n",
       "    }\n",
       "</style>\n",
       "<table border=\"1\" class=\"dataframe\">\n",
       "  <thead>\n",
       "    <tr style=\"text-align: right;\">\n",
       "      <th></th>\n",
       "      <th>motVedette</th>\n",
       "      <th>nbSyll</th>\n",
       "      <th>pron</th>\n",
       "      <th>pronSampa</th>\n",
       "      <th>ipa</th>\n",
       "    </tr>\n",
       "  </thead>\n",
       "  <tbody>\n",
       "    <tr>\n",
       "      <th>0</th>\n",
       "      <td>abacus</td>\n",
       "      <td>3</td>\n",
       "      <td>aʹbăcus</td>\n",
       "      <td>{ b @ k @ s</td>\n",
       "      <td>æbəkəs</td>\n",
       "    </tr>\n",
       "    <tr>\n",
       "      <th>1</th>\n",
       "      <td>abandon</td>\n",
       "      <td>3</td>\n",
       "      <td>ābăʹndon</td>\n",
       "      <td>@ b { n d @ n</td>\n",
       "      <td>əbændən</td>\n",
       "    </tr>\n",
       "    <tr>\n",
       "      <th>2</th>\n",
       "      <td>abandoned</td>\n",
       "      <td>4</td>\n",
       "      <td>ābăʹndŏned</td>\n",
       "      <td>@ b { n d @ n d</td>\n",
       "      <td>əbændənd</td>\n",
       "    </tr>\n",
       "  </tbody>\n",
       "</table>\n",
       "</div>"
      ],
      "text/plain": [
       "  motVedette  nbSyll        pron        pronSampa       ipa\n",
       "0     abacus       3     aʹbăcus      { b @ k @ s    æbəkəs\n",
       "1    abandon       3    ābăʹndon    @ b { n d @ n   əbændən\n",
       "2  abandoned       4  ābăʹndŏned  @ b { n d @ n d  əbændənd"
      ]
     },
     "execution_count": 16,
     "metadata": {},
     "output_type": "execute_result"
    }
   ],
   "source": [
    "dfBigi=Bigi[[\"motVedette\",\"nbSyll\",\"pron\",\"pronSampa\",\"ipa\"]]\n",
    "dfBigi.head(3)"
   ]
  },
  {
   "cell_type": "markdown",
   "metadata": {},
   "source": [
    "### 2.2 - Isoler les mots qui n'existent pas dans le Bigi"
   ]
  },
  {
   "cell_type": "code",
   "execution_count": 17,
   "metadata": {},
   "outputs": [
    {
     "data": {
      "text/plain": [
       "motVedette    False\n",
       "nbSyll        False\n",
       "pron          False\n",
       "pronSampa     False\n",
       "ipa           False\n",
       "dtype: bool"
      ]
     },
     "execution_count": 17,
     "metadata": {},
     "output_type": "execute_result"
    }
   ],
   "source": [
    "#On vérifie qu'il n'y a pas de données manquantes dans notre dataframe\n",
    "dfBigi.isnull().any()"
   ]
  },
  {
   "cell_type": "code",
   "execution_count": 18,
   "metadata": {},
   "outputs": [
    {
     "data": {
      "text/html": [
       "<div>\n",
       "<style scoped>\n",
       "    .dataframe tbody tr th:only-of-type {\n",
       "        vertical-align: middle;\n",
       "    }\n",
       "\n",
       "    .dataframe tbody tr th {\n",
       "        vertical-align: top;\n",
       "    }\n",
       "\n",
       "    .dataframe thead th {\n",
       "        text-align: right;\n",
       "    }\n",
       "</style>\n",
       "<table border=\"1\" class=\"dataframe\">\n",
       "  <thead>\n",
       "    <tr style=\"text-align: right;\">\n",
       "      <th></th>\n",
       "      <th>motVedette</th>\n",
       "      <th>nbSyll</th>\n",
       "      <th>pron</th>\n",
       "      <th>pronSampa</th>\n",
       "      <th>ipa</th>\n",
       "    </tr>\n",
       "  </thead>\n",
       "  <tbody>\n",
       "  </tbody>\n",
       "</table>\n",
       "</div>"
      ],
      "text/plain": [
       "Empty DataFrame\n",
       "Columns: [motVedette, nbSyll, pron, pronSampa, ipa]\n",
       "Index: []"
      ]
     },
     "execution_count": 18,
     "metadata": {},
     "output_type": "execute_result"
    }
   ],
   "source": [
    "dfBigi[dfBigi['motVedette'].isnull()]"
   ]
  },
  {
   "cell_type": "markdown",
   "metadata": {},
   "source": [
    "## 3 - Filtrer les entrées du dictionnaire"
   ]
  },
  {
   "cell_type": "code",
   "execution_count": 19,
   "metadata": {},
   "outputs": [],
   "source": [
    "#Création de la zone interface\n",
    "filtreHWD = widgets.Text(value=\"\",description='filtre hwd',layout={'width': '250px'} )\n",
    "filtreIPA = widgets.Text(value=\"\",description='filtre ipa',layout={'width': '250px'} )\n",
    "occMax = widgets.IntSlider(min=0,max=10,step=1,description='Occ.Max:',value=1)\n",
    "bouton = widgets.Button(description='Démarrer', icon = \"check\")"
   ]
  },
  {
   "cell_type": "code",
   "execution_count": 20,
   "metadata": {},
   "outputs": [],
   "source": [
    "def on_button_clicked(_):\n",
    "    nbLigne = occMax.value\n",
    "    HWD = filtreHWD.value \n",
    "    IPA = filtreIPA.value\n",
    "    df = \"\"\n",
    "\n",
    "    with dataFrame:\n",
    "        clear_output()\n",
    "        if (HWD != \"\"):\n",
    "            df = dfBigi[(dfBigi.motVedette.str.match(HWD))]\n",
    "            if(IPA != \"\"):\n",
    "                df = df[(df.pron.str.match(IPA))]\n",
    "        elif (IPA != \"\"):\n",
    "            df = dfBigi[(dfBigi.pron.str.match(IPA))]\n",
    "\n",
    "        if(len(df) > nbLigne):\n",
    "            df = df.sample(n=nbLigne).copy()\n",
    "        df = df.reset_index()    \n",
    "        \n",
    "        #Affichage\n",
    "        display(df)\n",
    "        \n",
    "    with audio :\n",
    "        clear_output()\n",
    "        df = scrapping(df) \n",
    "        listeAudio = Audio(df) \n",
    "        display(listeAudio)\n",
    "        \n",
    "            \n",
    "bouton.on_click(on_button_clicked)"
   ]
  },
  {
   "cell_type": "code",
   "execution_count": 21,
   "metadata": {},
   "outputs": [],
   "source": [
    "# Création des widgets\n",
    "dataFrame = widgets.Output()\n",
    "audio = widgets.Output()"
   ]
  },
  {
   "cell_type": "code",
   "execution_count": 22,
   "metadata": {},
   "outputs": [
    {
     "data": {
      "application/vnd.jupyter.widget-view+json": {
       "model_id": "a7cc84aa52994f6f8c61e49e5021c15b",
       "version_major": 2,
       "version_minor": 0
      },
      "text/plain": [
       "VBox(children=(HBox(children=(Text(value='', description='filtre hwd', layout=Layout(width='250px')), Text(val…"
      ]
     },
     "metadata": {},
     "output_type": "display_data"
    }
   ],
   "source": [
    "mod1 = widgets.HBox([filtreHWD, filtreIPA, occMax, bouton])\n",
    "mod2 = widgets.HBox([dataFrame])\n",
    "mod3 = widgets.HBox([audio])\n",
    "\n",
    "interface = widgets.VBox([mod1, mod2, mod3])\n",
    "interface"
   ]
  }
 ],
 "metadata": {
  "kernelspec": {
   "display_name": "Python 3",
   "language": "python",
   "name": "python3"
  },
  "language_info": {
   "codemirror_mode": {
    "name": "ipython",
    "version": 3
   },
   "file_extension": ".py",
   "mimetype": "text/x-python",
   "name": "python",
   "nbconvert_exporter": "python",
   "pygments_lexer": "ipython3",
   "version": "3.8.5"
  }
 },
 "nbformat": 4,
 "nbformat_minor": 4
}
